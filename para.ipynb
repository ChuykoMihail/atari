{
 "cells": [
  {
   "cell_type": "code",
   "execution_count": 1,
   "id": "52294604-36e4-4839-a79c-382149680db7",
   "metadata": {},
   "outputs": [
    {
     "name": "stderr",
     "output_type": "stream",
     "text": [
      "2024-04-30 17:30:00.012645: I tensorflow/core/platform/cpu_feature_guard.cc:210] This TensorFlow binary is optimized to use available CPU instructions in performance-critical operations.\n",
      "To enable the following instructions: AVX2 FMA, in other operations, rebuild TensorFlow with the appropriate compiler flags.\n",
      "2024-04-30 17:30:01.322798: W tensorflow/compiler/tf2tensorrt/utils/py_utils.cc:38] TF-TRT Warning: Could not find TensorRT\n"
     ]
    }
   ],
   "source": [
    "import numpy as np\n",
    "import gymnasium as gym\n",
    "import tensorflow as tf\n",
    "import tqdm.notebook as tqdm\n",
    "import gymnasium.utils.save_video\n",
    "import matplotlib.pyplot as plt"
   ]
  },
  {
   "cell_type": "code",
   "execution_count": 2,
   "id": "990db858-3022-4e8c-be4b-b2d5c7351ff3",
   "metadata": {},
   "outputs": [
    {
     "name": "stderr",
     "output_type": "stream",
     "text": [
      "2024-04-30 17:30:03.245020: I external/local_xla/xla/stream_executor/cuda/cuda_executor.cc:998] successful NUMA node read from SysFS had negative value (-1), but there must be at least one NUMA node, so returning NUMA node zero. See more at https://github.com/torvalds/linux/blob/v6.0/Documentation/ABI/testing/sysfs-bus-pci#L344-L355\n",
      "2024-04-30 17:30:03.543146: I external/local_xla/xla/stream_executor/cuda/cuda_executor.cc:998] successful NUMA node read from SysFS had negative value (-1), but there must be at least one NUMA node, so returning NUMA node zero. See more at https://github.com/torvalds/linux/blob/v6.0/Documentation/ABI/testing/sysfs-bus-pci#L344-L355\n",
      "2024-04-30 17:30:03.543802: I external/local_xla/xla/stream_executor/cuda/cuda_executor.cc:998] successful NUMA node read from SysFS had negative value (-1), but there must be at least one NUMA node, so returning NUMA node zero. See more at https://github.com/torvalds/linux/blob/v6.0/Documentation/ABI/testing/sysfs-bus-pci#L344-L355\n"
     ]
    }
   ],
   "source": [
    "gpus = tf.config.experimental.list_physical_devices('GPU')\n",
    "if gpus:\n",
    "    try:\n",
    "        for gpu in gpus:\n",
    "              tf.config.experimental.set_memory_growth(gpu, True)\n",
    "    except RuntimeError as e:\n",
    "        print(e)"
   ]
  },
  {
   "cell_type": "code",
   "execution_count": 3,
   "id": "b97431d8-8a10-44ca-86ba-f587cc89f2de",
   "metadata": {},
   "outputs": [
    {
     "name": "stderr",
     "output_type": "stream",
     "text": [
      "A.L.E: Arcade Learning Environment (version 0.8.1+53f58b7)\n",
      "[Powered by Stella]\n"
     ]
    }
   ],
   "source": [
    "env = gym.make('ALE/DemonAttack-v5', render_mode='rgb_array')\n",
    "eval_env = gym.make('ALE/DemonAttack-v5')"
   ]
  },
  {
   "cell_type": "code",
   "execution_count": 4,
   "id": "bd8648b2-a198-4e4d-8d8b-f341f172e262",
   "metadata": {},
   "outputs": [
    {
     "name": "stderr",
     "output_type": "stream",
     "text": [
      "/home/mimisha/.pyenv/versions/atari-venv/lib/python3.11/site-packages/gymnasium/utils/passive_env_checker.py:335: UserWarning: \u001b[33mWARN: No render fps was declared in the environment (env.metadata['render_fps'] is None or not defined), rendering may occur at inconsistent fps.\u001b[0m\n",
      "  logger.warn(\n"
     ]
    },
    {
     "data": {
      "text/plain": [
       "<matplotlib.image.AxesImage at 0x74f977737510>"
      ]
     },
     "execution_count": 4,
     "metadata": {},
     "output_type": "execute_result"
    },
    {
     "data": {
      "image/png": "[encoded data removed]",
      "text/plain": [
       "<Figure size 640x480 with 1 Axes>"
      ]
     },
     "metadata": {},
     "output_type": "display_data"
    }
   ],
   "source": [
    "env.reset()\n",
    "plt.imshow(env.render())"
   ]
  },
  {
   "cell_type": "code",
   "execution_count": 5,
   "id": "e17844d0-30c6-46e6-88d1-8fe4f425b095",
   "metadata": {},
   "outputs": [],
   "source": [
    "def get_name(prefix: str | None = None, suffix: str | None = None, separator: str = '/') -> str | None:\n",
    "    return prefix and prefix + separator + suffix or suffix or None"
   ]
  },
  {
   "cell_type": "code",
   "execution_count": 6,
   "id": "cf959877-0d60-4aa9-8d2a-a656f682a56b",
   "metadata": {},
   "outputs": [],
   "source": [
    "def get_model(\n",
    "    input_features: int, \n",
    "    features: int,\n",
    "    out_features: int,\n",
    "    blocks: int, \n",
    "    activation: str | tf.keras.layers.Activation | None = 'silu',\n",
    "    dropout: float = 0.,\n",
    "    multiply_freq: int = 1,\n",
    "    name: str | None = None\n",
    ") -> tf.keras.Model:\n",
    "    inputs = x = tf.keras.layers.Input((input_features, ), name=get_name(name, 'input'))\n",
    "\n",
    "    for i in range(blocks):\n",
    "        # position, velocity, angle, angle velocity\n",
    "        x = tf.keras.layers.Dense(features, activation=activation, name=get_name(name, f'dense_{i}'))(x)\n",
    "        if dropout > 0:\n",
    "            x = tf.keras.layers.Dropout(dropout, name=get_name(name, f'dropout_{i}'))(x)\n",
    "\n",
    "        if multiply_freq > 0 and (i + 1) % multiply_freq == 0:\n",
    "            features *= 2\n",
    "\n",
    "    x = tf.keras.layers.Dense(out_features, name=get_name(name, 'prediction'))(x)\n",
    "    return tf.keras.Model(inputs=inputs, outputs=x, name=name)"
   ]
  },
  {
   "cell_type": "code",
   "execution_count": 7,
   "id": "f95cb0c6-53e6-4e8a-a39e-9f150197f427",
   "metadata": {
    "jupyter": {
     "source_hidden": true
    }
   },
   "outputs": [],
   "source": [
    "class Buffer:\n",
    "\n",
    "    def __init__(self, max_size: int, seed: int=0):\n",
    "        self.max_size = max_size\n",
    "        self.current_state = np.zeros((max_size, 8))\n",
    "        self.action = np.zeros(max_size, dtype=int)\n",
    "        self.reward = np.zeros(max_size)\n",
    "        self.next_state = np.zeros((max_size, 8))\n",
    "        self.done = np.zeros(max_size)\n",
    "        self.step = 0\n",
    "        self.rng = np.random.default_rng(seed=seed)\n",
    "        self.len = 0\n",
    "        \n",
    "    def add(self, \n",
    "            current_state: np.ndarray, \n",
    "            action: np.ndarray, \n",
    "            reward: np.ndarray, \n",
    "            next_state: np.ndarray, \n",
    "            done: np.ndarray\n",
    "           ):\n",
    "        self.current_state[self.step] = current_state\n",
    "        self.action[self.step] = action\n",
    "        self.reward[self.step] = reward\n",
    "        self.next_state[self.step] = next_state\n",
    "        self.done[self.step] = done\n",
    "        self.step = (self.step + 1) % self.max_size\n",
    "        self.len = min(self.len + 1, self.max_size)\n",
    "        \n",
    "    def sample(self, n: int) -> tuple[np.ndarray, np.ndarray, np.ndarray, np.ndarray, np.ndarray]:\n",
    "        indicies = self.rng.choice(self.len, size=n)\n",
    "        return (\n",
    "            self.current_state[indicies], \n",
    "            self.action[indicies], \n",
    "            self.reward[indicies], \n",
    "            self.next_state[indicies], \n",
    "            self.done[indicies]\n",
    "        )\n",
    "\n",
    "    def clear(self):\n",
    "        self.step = self.len = 0\n",
    "\n",
    "    def __getitem__(self, i: int) -> tuple[np.ndarray, np.ndarray, np.ndarray, np.ndarray, np.ndarray]:\n",
    "        return (\n",
    "            self.current_state[i], \n",
    "            self.action[i], \n",
    "            self.reward[i], \n",
    "            self.next_state[i], \n",
    "            self.done[i]\n",
    "        )\n",
    "        \n",
    "    def __len__(self) -> int:\n",
    "        return self.len"
   ]
  },
  {
   "cell_type": "code",
   "execution_count": 8,
   "id": "d818863d-ae8e-456a-937b-e8a76df60206",
   "metadata": {},
   "outputs": [],
   "source": [
    "def play_game(model: tf.keras.Model, buffer: Buffer | None, env: gym.Env, max_steps: int, sample, one_episode: bool = False, s: np.ndarray | None = None):\n",
    "    if s is None:\n",
    "        s, _ = env.reset()\n",
    "\n",
    "    buffer = buffer if buffer is not None else Buffer(1) # cannot do or\n",
    "\n",
    "    for i in range(max_steps):\n",
    "        a = sample(model(s[None], training=False).numpy()[0])\n",
    "        new_s, score, done, terminated, _ = env.step(a)\n",
    "        \n",
    "        buffer.add(s, a, score, new_s, done)\n",
    "\n",
    "        if done or terminated:\n",
    "            if one_episode:\n",
    "                return\n",
    "                \n",
    "            s, _ = env.reset()\n",
    "            continue\n",
    "            \n",
    "        s = new_s\n",
    "\n",
    "    return s"
   ]
  },
  {
   "cell_type": "code",
   "execution_count": 9,
   "id": "a61599b4-e7fc-4998-9892-188cbd79ddbc",
   "metadata": {},
   "outputs": [],
   "source": [
    "class Sampler:\n",
    "    def __init__(self, epsilon: float, seed: int = 0):\n",
    "        self.rng = np.random.default_rng(seed=seed)\n",
    "        self.epsilon = epsilon\n",
    "        \n",
    "    def __call__(self, a: np.ndarray):\n",
    "        if self.rng.random() < self.epsilon:\n",
    "            return self.rng.integers(a.shape[0])\n",
    "        return np.argmax(a)"
   ]
  },
  {
   "cell_type": "code",
   "execution_count": 10,
   "id": "04ed0a73-50e7-4558-b8d1-a0d417b4021d",
   "metadata": {
    "jupyter": {
     "source_hidden": true
    }
   },
   "outputs": [],
   "source": [
    "def Q_loss(\n",
    "    current_state: np.ndarray | tf.Tensor, \n",
    "    action: np.ndarray | tf.Tensor, \n",
    "    reward: np.ndarray | tf.Tensor, \n",
    "    next_state: np.ndarray | tf.Tensor, \n",
    "    done: np.ndarray | tf.Tensor,\n",
    "    model: tf.keras.Model,\n",
    "    target_model: tf.keras.Model,\n",
    "    gamma: float\n",
    "):\n",
    "    q_current = model(current_state)\n",
    "    q_next = target_model(next_state)\n",
    "    q_ref = reward + gamma * tf.math.reduce_max(q_next, axis=-1) * (1. - done)\n",
    "    q = tf.reshape(tf.gather(q_current, tf.expand_dims(action, axis=-1), batch_dims=1), (-1, ))\n",
    "    return tf.math.reduce_mean(tf.square(q_ref - q))"
   ]
  },
  {
   "cell_type": "code",
   "execution_count": 11,
   "id": "a4bd39a1-8af2-4f57-be7a-35aa683fb061",
   "metadata": {},
   "outputs": [],
   "source": [
    "def QQ_loss(\n",
    "    current_state: np.ndarray | tf.Tensor, \n",
    "    action: np.ndarray | tf.Tensor, \n",
    "    reward: np.ndarray | tf.Tensor, \n",
    "    next_state: np.ndarray | tf.Tensor, \n",
    "    done: np.ndarray | tf.Tensor,\n",
    "    model: tf.keras.Model,\n",
    "    target_model: tf.keras.Model,\n",
    "    gamma: float\n",
    "):\n",
    "    q_current = model(current_state)\n",
    "    q_next = target_model(next_state)\n",
    "\n",
    "    a_next = tf.argmax(model(next_state), axis=-1)\n",
    "    \n",
    "    # q_ref = tf.stop_gradient(reward + gamma * tf.reshape(tf.gather(q_next, tf.expand_dims(a_next, axis=-1), batch_dims=1), (-1, )) * (1. - done))\n",
    "    q_ref = reward + gamma * tf.reshape(tf.gather(q_next, tf.expand_dims(a_next, axis=-1), batch_dims=1), (-1, )) * (1. - done)\n",
    "    \n",
    "    q = tf.reshape(tf.gather(q_current, tf.expand_dims(action, axis=-1), batch_dims=1), (-1, ))\n",
    "\n",
    "    return tf.math.reduce_mean(tf.square(q_ref - q))"
   ]
  },
  {
   "cell_type": "code",
   "execution_count": null,
   "id": "3b40efab-3e46-4433-9511-dd8f26a9d525",
   "metadata": {},
   "outputs": [],
   "source": [
    "model = get_model(8, 16, 4, 12, name='lanar_lander', dropout=0.1, multiply_freq=2, activation='swish')"
   ]
  },
  {
   "cell_type": "code",
   "execution_count": null,
   "id": "bbf1c28c-42ba-43eb-ac2f-b10cb0b57a6d",
   "metadata": {},
   "outputs": [],
   "source": [
    "target_model = get_model(8, 16, 4, 12, name='target_lander', multiply_freq=2, activation='swish')"
   ]
  },
  {
   "cell_type": "code",
   "execution_count": null,
   "id": "40813d77-0506-4218-a547-ce394c4ff8a7",
   "metadata": {},
   "outputs": [],
   "source": [
    "target_model.trainable = False\n",
    "target_model.set_weights(model.get_weights())"
   ]
  },
  {
   "cell_type": "code",
   "execution_count": null,
   "id": "25115aa2-90b2-4de1-b17d-fa0a18595d27",
   "metadata": {},
   "outputs": [],
   "source": [
    "train_buffer = Buffer(100000)\n",
    "train_sampler = Sampler(1)"
   ]
  },
  {
   "cell_type": "code",
   "execution_count": null,
   "id": "aa8bc023-f85b-4db5-b4fa-6527c9d48672",
   "metadata": {},
   "outputs": [],
   "source": [
    "eval_buffer = Buffer(1000)\n",
    "eval_sampler = Sampler(0)"
   ]
  },
  {
   "cell_type": "code",
   "execution_count": null,
   "id": "ef0fdc11-ddcb-42aa-9168-eecd3dad11ed",
   "metadata": {},
   "outputs": [],
   "source": [
    "optimizer = tf.keras.optimizers.Adam(1e-4, clipnorm=5, weight_decay=2e-5)"
   ]
  },
  {
   "cell_type": "code",
   "execution_count": null,
   "id": "00c38446-b891-4f2a-a991-5362acc60efd",
   "metadata": {},
   "outputs": [],
   "source": [
    "epochs = 10 ** 5\n",
    "batch_size = 1024\n",
    "decay_epochs = epochs // 2\n",
    "end_epsilon = 0.1\n",
    "update_frequency = 512\n",
    "eval_frequency = 512\n",
    "steps_per_epoch = 32\n",
    "eval_steps = 1000\n",
    "initial_samples = 10000\n",
    "n_evals = 5\n",
    "eval_threshold = 200"
   ]
  },
  {
   "cell_type": "code",
   "execution_count": null,
   "id": "16a75557-3cf2-4c5f-bda9-3b17211736bf",
   "metadata": {},
   "outputs": [],
   "source": [
    "play_game(model, train_buffer, env, initial_samples, train_sampler)"
   ]
  },
  {
   "cell_type": "code",
   "execution_count": null,
   "id": "81c3226a-838e-4027-ae4c-f981e6804e80",
   "metadata": {},
   "outputs": [],
   "source": [
    "epsilon_decay = tf.keras.optimizers.schedules.PolynomialDecay(1., decay_epochs, end_learning_rate=end_epsilon)"
   ]
  },
  {
   "cell_type": "code",
   "execution_count": null,
   "id": "051b9729-c0c7-4c12-9c56-37670578d9f2",
   "metadata": {},
   "outputs": [],
   "source": [
    "losses = []\n",
    "total_loss = 0\n",
    "eval_score = 0\n",
    "\n",
    "s, _ = env.reset()\n",
    "pbar = tqdm.trange(epochs)\n",
    "for i in pbar:\n",
    "    train_sampler.epsilon = epsilon_decay(i).numpy()\n",
    "    \n",
    "    s = play_game(model, train_buffer, env, steps_per_epoch, train_sampler, s=s)\n",
    "    \n",
    "    vals = train_buffer.sample(batch_size)\n",
    "    with tf.GradientTape(watch_accessed_variables=False) as g:\n",
    "        g.watch(model.trainable_weights)\n",
    "        loss = QQ_loss(*vals, model, target_model, 0.99)\n",
    "\n",
    "    gradient = g.gradient(loss, model.trainable_weights)\n",
    "    optimizer.apply_gradients(zip(gradient, model.trainable_weights))\n",
    "    \n",
    "    losses.append(loss.numpy())\n",
    "    total_loss += losses[-1]\n",
    "\n",
    "    if (i + 1) % update_frequency == 0:\n",
    "        target_model.set_weights(model.get_weights())\n",
    "\n",
    "    if (i + 1) % eval_frequency == 0:\n",
    "        eval_score = 0\n",
    "\n",
    "        for i in range(n_evals):\n",
    "            eval_buffer.clear()\n",
    "            play_game(model, eval_buffer, eval_env, eval_steps, eval_sampler, one_episode=True)\n",
    "            eval_score += eval_buffer.reward[:len(eval_buffer)].sum()\n",
    "\n",
    "        eval_score /= n_evals\n",
    "        if eval_score >= eval_threshold:\n",
    "            break\n",
    "\n",
    "    pbar.set_description(f'L: {losses[-1]:.5f}; AL: {total_loss / (i + 1):.5f}; E: {eval_score:.5f}')"
   ]
  },
  {
   "cell_type": "code",
   "execution_count": null,
   "id": "1c5b457b-635a-4ebe-a4ee-415ddea4b478",
   "metadata": {},
   "outputs": [],
   "source": [
    "target_model.set_weights(model.get_weights())"
   ]
  },
  {
   "cell_type": "code",
   "execution_count": null,
   "id": "3c5909ec-c5ce-4952-9438-d5132ee38546",
   "metadata": {},
   "outputs": [],
   "source": [
    "def save_gameplay(model: tf.keras.Model, render_mode: str = 'human'):\n",
    "    env = gym.make('LunarLander-v2', render_mode=render_mode)\n",
    "    buffer = Buffer(1000)\n",
    "    play_game(model, buffer, env, 1000, Sampler(0), one_episode=True)\n",
    "    render = env.render()\n",
    "    # gym.utils.save_video.save_video(render, 'videos', durations=[1] * len(render))\n",
    "    return render, buffer"
   ]
  },
  {
   "cell_type": "code",
   "execution_count": null,
   "id": "de01d4b7-81a6-4b6b-ab7f-5f262235783f",
   "metadata": {},
   "outputs": [],
   "source": [
    "a, b = save_gameplay(model)"
   ]
  },
  {
   "cell_type": "code",
   "execution_count": null,
   "id": "a6de9678-4f94-4ece-8fbb-622d31a8d958",
   "metadata": {},
   "outputs": [],
   "source": [
    "b.reward.sum()"
   ]
  },
  {
   "cell_type": "code",
   "execution_count": null,
   "id": "59af683e-ce12-4d93-bc04-9363a1b388af",
   "metadata": {},
   "outputs": [],
   "source": []
  }
 ],
 "metadata": {
  "kernelspec": {
   "display_name": "atari-venv",
   "language": "python",
   "name": "atari-venv"
  },
  "language_info": {
   "codemirror_mode": {
    "name": "ipython",
    "version": 3
   },
   "file_extension": ".py",
   "mimetype": "text/x-python",
   "name": "python",
   "nbconvert_exporter": "python",
   "pygments_lexer": "ipython3",
   "version": "3.11.9"
  }
 },
 "nbformat": 4,
 "nbformat_minor": 5
}
